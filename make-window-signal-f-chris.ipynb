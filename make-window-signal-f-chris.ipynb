{
 "cells": [
  {
   "cell_type": "code",
   "execution_count": 11,
   "metadata": {
    "_cell_guid": "b1076dfc-b9ad-4769-8c92-a6c4dae69d19",
    "_uuid": "8f2839f25d086af736a60e9eeb907d3b93b6e0e5"
   },
   "outputs": [],
   "source": [
    "import numpy as np \n",
    "import pandas as pd\n",
    "from sklearn import *\n",
    "import lightgbm as lgb\n",
    "from catboost import Pool,CatBoostRegressor\n",
    "\n",
    "from sklearn.preprocessing import StandardScaler\n",
    "from sklearn.model_selection import StratifiedKFold, KFold\n",
    "from sklearn.metrics import mean_absolute_error\n",
    "from sklearn.linear_model import LinearRegression\n",
    "\n",
    "import plotly.graph_objects as go\n",
    "from plotly.subplots import make_subplots\n",
    "\n",
    "import matplotlib.pyplot as plt\n",
    "%matplotlib inline\n",
    "\n",
    "import seaborn as sns\n",
    "sns.set()\n",
    "\n",
    "pd.set_option(\"display.precision\", 8)\n",
    "\n",
    "from functools import partial\n",
    "import scipy as sp\n",
    "\n",
    "import os\n",
    "from sklearn.metrics import f1_score\n",
    "\n",
    "import pywt \n",
    "from statsmodels.robust import mad\n",
    "\n",
    "import scipy\n",
    "from scipy import signal\n",
    "from scipy.signal import butter, deconvolve, find_peaks, peak_widths, peak_prominences\n",
    "\n",
    "from numpy.fft import *\n",
    "\n",
    "import time\n",
    "import math\n",
    "from numba import jit\n",
    "from math import log, floor\n",
    "from sklearn.neighbors import KDTree\n",
    " \n",
    "\n",
    "train = pd.read_csv('/Users/siero5335/channel/train2.csv')\n",
    "test = pd.read_csv('/Users/siero5335/channel/test2.csv')\n",
    "\n",
    "sample_submission = pd.read_csv('/Users/siero5335/channel/sample_submission.csv')\n"
   ]
  },
  {
   "cell_type": "code",
   "execution_count": 15,
   "metadata": {},
   "outputs": [],
   "source": [
    "def remove_false_peak(signal, p1, p2, maxDistance=10):\n",
    "    peak_diff = np.diff(p2)\n",
    "    if len(peak_diff) == 0:\n",
    "        return p1\n",
    "    ticks = []\n",
    "    for i, d in enumerate(peak_diff):\n",
    "        ratio = signal[p2[i+1]]/signal[p2[i]]\n",
    "        if d < maxDistance and -0.25 > ratio and ratio > -4:\n",
    "            ticks.append((p2[i], p2[i+1]))\n",
    "    mask = np.array([True]*len(p1))\n",
    "    for i, j in ticks:\n",
    "        mask = mask &amp; ((p1 < i) | (p1 > 500+j))\n",
    "    return p1[mask]\n",
    "\n",
    "\n",
    "def get_peaks(signal):\n",
    "    p1_1, _ = find_peaks(signal, height=[5, 100])\n",
    "    p1_2, _ = find_peaks(-signal, height=[5, 100])\n",
    "    p1 = np.union1d(p1_1, p1_2)\n",
    "    n_peaks, _ = find_peaks(-signal, height=[10, 100])\n",
    "    p_peaks, _ = find_peaks(signal, height=[10, 100])\n",
    "    p2 = np.union1d(n_peaks, p_peaks)\n",
    "    p = remove_false_peak(signal, p1, p2, maxDistance=10)\n",
    "    return np.intersect1d(p1_1, p), np.intersect1d(p1_2, p)\n",
    "\n",
    "\n",
    "def extract_peak_feature(signal):\n",
    "    p_peaks, n_peaks = get_peaks(signal)\n",
    "    \n",
    "    num_p, num_n = len(p_peaks), len(n_peaks)\n",
    "\n",
    "    sig_peak_width = np.concatenate(\n",
    "        [peak_widths(signal, p_peaks)[0], peak_widths(-signal, n_peaks)[0]])\n",
    "    sig_peak_height = abs(signal[np.concatenate([p_peaks, n_peaks])])\n",
    "\n",
    "    if num_n or num_p:\n",
    "        height_mean = sig_peak_height.mean()\n",
    "\n",
    "        width_mean = sig_peak_width.mean()\n",
    "\n",
    "        return np.array([height_mean, width_mean])\n",
    "    else:\n",
    "        return np.zeros(2)"
   ]
  },
  {
   "cell_type": "code",
   "execution_count": 16,
   "metadata": {},
   "outputs": [],
   "source": [
    "window_sizes = [100, 500, 1000, 2500, 5000]"
   ]
  },
  {
   "cell_type": "code",
   "execution_count": 17,
   "metadata": {},
   "outputs": [
    {
     "name": "stderr",
     "output_type": "stream",
     "text": [
      "/Users/siero5335/opt/anaconda3/lib/python3.7/site-packages/ipykernel_launcher.py:2: FutureWarning:\n",
      "\n",
      "Currently, 'apply' passes the values as ndarrays to the applied function. In the future, this will change to passing it as Series objects. You need to specify 'raw=True' to keep the current behaviour, and you can pass 'raw=False' to silence this warning\n",
      "\n",
      "/Users/siero5335/opt/anaconda3/lib/python3.7/site-packages/ipykernel_launcher.py:3: FutureWarning:\n",
      "\n",
      "Currently, 'apply' passes the values as ndarrays to the applied function. In the future, this will change to passing it as Series objects. You need to specify 'raw=True' to keep the current behaviour, and you can pass 'raw=False' to silence this warning\n",
      "\n"
     ]
    }
   ],
   "source": [
    "for window in window_sizes:\n",
    "    train[\"rolling_height_mean_chris_\" + str(window)] = train['signal_chris'].rolling(window=window).apply(lambda x: extract_peak_feature(x)[0])\n",
    "    train[\"rolling_width_mean_chris_\" + str(window)] = train['signal_chris'].rolling(window=window).apply(lambda x: extract_peak_feature(x)[1])\n",
    "\n",
    "train.to_csv('/Users/siero5335/channel/train_rolling_signal_chris.csv')"
   ]
  },
  {
   "cell_type": "code",
   "execution_count": 18,
   "metadata": {},
   "outputs": [
    {
     "name": "stderr",
     "output_type": "stream",
     "text": [
      "/Users/siero5335/opt/anaconda3/lib/python3.7/site-packages/ipykernel_launcher.py:2: FutureWarning:\n",
      "\n",
      "Currently, 'apply' passes the values as ndarrays to the applied function. In the future, this will change to passing it as Series objects. You need to specify 'raw=True' to keep the current behaviour, and you can pass 'raw=False' to silence this warning\n",
      "\n",
      "/Users/siero5335/opt/anaconda3/lib/python3.7/site-packages/ipykernel_launcher.py:3: FutureWarning:\n",
      "\n",
      "Currently, 'apply' passes the values as ndarrays to the applied function. In the future, this will change to passing it as Series objects. You need to specify 'raw=True' to keep the current behaviour, and you can pass 'raw=False' to silence this warning\n",
      "\n"
     ]
    }
   ],
   "source": [
    "for window in window_sizes:\n",
    "    test[\"rolling_height_mean_chris_\" + str(window)] = test['signal_chris'].rolling(window=window).apply(lambda x: extract_peak_feature(x)[0])\n",
    "    test[\"rolling_width_mean_chris_\" + str(window)] = test['signal_chris'].rolling(window=window).apply(lambda x: extract_peak_feature(x)[1])\n",
    "    \n",
    "test.to_csv('/Users/siero5335/channel/test_rolling_signal_chris.csv')"
   ]
  },
  {
   "cell_type": "code",
   "execution_count": null,
   "metadata": {},
   "outputs": [],
   "source": []
  }
 ],
 "metadata": {
  "kernelspec": {
   "display_name": "Python 3",
   "language": "python",
   "name": "python3"
  },
  "language_info": {
   "codemirror_mode": {
    "name": "ipython",
    "version": 3
   },
   "file_extension": ".py",
   "mimetype": "text/x-python",
   "name": "python",
   "nbconvert_exporter": "python",
   "pygments_lexer": "ipython3",
   "version": "3.7.4"
  }
 },
 "nbformat": 4,
 "nbformat_minor": 4
}
